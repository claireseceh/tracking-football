{
 "cells": [
  {
   "cell_type": "code",
   "execution_count": 1,
   "metadata": {},
   "outputs": [],
   "source": [
    "# All libraries needed\n",
    "import xarray as xr\n",
    "import numpy as np\n",
    "import matplotlib.pyplot as plt\n",
    "import pandas as pd"
   ]
  },
  {
   "attachments": {},
   "cell_type": "markdown",
   "metadata": {},
   "source": [
    "Read csv files with pandas library"
   ]
  },
  {
   "cell_type": "code",
   "execution_count": 2,
   "metadata": {},
   "outputs": [
    {
     "data": {
      "text/html": [
       "<div>\n",
       "<style scoped>\n",
       "    .dataframe tbody tr th:only-of-type {\n",
       "        vertical-align: middle;\n",
       "    }\n",
       "\n",
       "    .dataframe tbody tr th {\n",
       "        vertical-align: top;\n",
       "    }\n",
       "\n",
       "    .dataframe thead th {\n",
       "        text-align: right;\n",
       "    }\n",
       "</style>\n",
       "<table border=\"1\" class=\"dataframe\">\n",
       "  <thead>\n",
       "    <tr style=\"text-align: right;\">\n",
       "      <th></th>\n",
       "      <th>Frame</th>\n",
       "      <th>Player1</th>\n",
       "      <th>Player2</th>\n",
       "      <th>Player3</th>\n",
       "      <th>Player4</th>\n",
       "      <th>Player5</th>\n",
       "      <th>Player6</th>\n",
       "      <th>Player7</th>\n",
       "      <th>Player8</th>\n",
       "      <th>Player9</th>\n",
       "      <th>...</th>\n",
       "      <th>Player15</th>\n",
       "      <th>Player16</th>\n",
       "      <th>Player17</th>\n",
       "      <th>Player18</th>\n",
       "      <th>Player19</th>\n",
       "      <th>Player20</th>\n",
       "      <th>Player21</th>\n",
       "      <th>Player22</th>\n",
       "      <th>Ball</th>\n",
       "      <th>Status</th>\n",
       "    </tr>\n",
       "  </thead>\n",
       "  <tbody>\n",
       "    <tr>\n",
       "      <th>0</th>\n",
       "      <td>251</td>\n",
       "      <td>9852,3365</td>\n",
       "      <td>6945,1418</td>\n",
       "      <td>7183,3132</td>\n",
       "      <td>7129,4197</td>\n",
       "      <td>6790,5851</td>\n",
       "      <td>6157,335</td>\n",
       "      <td>6063,42</td>\n",
       "      <td>5290,2483</td>\n",
       "      <td>5272,1855</td>\n",
       "      <td>...</td>\n",
       "      <td>4387,2975</td>\n",
       "      <td>5173,4494</td>\n",
       "      <td>4458,395</td>\n",
       "      <td>3635,1193</td>\n",
       "      <td>3457,2955</td>\n",
       "      <td>3401,3953</td>\n",
       "      <td>3655,5174</td>\n",
       "      <td>1072,3381</td>\n",
       "      <td>5250,34</td>\n",
       "      <td>BALL_OUT</td>\n",
       "    </tr>\n",
       "    <tr>\n",
       "      <th>1</th>\n",
       "      <td>252</td>\n",
       "      <td>9853,3364</td>\n",
       "      <td>6944,1421</td>\n",
       "      <td>7183,3132</td>\n",
       "      <td>7131,4195</td>\n",
       "      <td>6789,5852</td>\n",
       "      <td>6157,335</td>\n",
       "      <td>6063,4198</td>\n",
       "      <td>5291,2482</td>\n",
       "      <td>5272,1858</td>\n",
       "      <td>...</td>\n",
       "      <td>4388,2978</td>\n",
       "      <td>5173,4492</td>\n",
       "      <td>4456,3947</td>\n",
       "      <td>3635,1193</td>\n",
       "      <td>3457,2956</td>\n",
       "      <td>3400,3952</td>\n",
       "      <td>3655,5174</td>\n",
       "      <td>1071,3381</td>\n",
       "      <td>5250,3404</td>\n",
       "      <td>BALL_OUT</td>\n",
       "    </tr>\n",
       "    <tr>\n",
       "      <th>2</th>\n",
       "      <td>253</td>\n",
       "      <td>9853,3363</td>\n",
       "      <td>6943,1424</td>\n",
       "      <td>7183,3131</td>\n",
       "      <td>7133,4193</td>\n",
       "      <td>6787,5853</td>\n",
       "      <td>6158,335</td>\n",
       "      <td>6063,4195</td>\n",
       "      <td>5291,2482</td>\n",
       "      <td>5272,186</td>\n",
       "      <td>...</td>\n",
       "      <td>4388,298</td>\n",
       "      <td>5173,449</td>\n",
       "      <td>4454,3945</td>\n",
       "      <td>3635,1194</td>\n",
       "      <td>3456,2956</td>\n",
       "      <td>3399,3952</td>\n",
       "      <td>3655,5174</td>\n",
       "      <td>1070,3381</td>\n",
       "      <td>5251,3407</td>\n",
       "      <td>BALL_OUT</td>\n",
       "    </tr>\n",
       "    <tr>\n",
       "      <th>3</th>\n",
       "      <td>254</td>\n",
       "      <td>9853,3362</td>\n",
       "      <td>6942,1426</td>\n",
       "      <td>7182,313</td>\n",
       "      <td>7133,4192</td>\n",
       "      <td>6786,5854</td>\n",
       "      <td>6158,335</td>\n",
       "      <td>6063,4193</td>\n",
       "      <td>5291,2482</td>\n",
       "      <td>5271,1863</td>\n",
       "      <td>...</td>\n",
       "      <td>4389,2983</td>\n",
       "      <td>5173,4489</td>\n",
       "      <td>4453,3943</td>\n",
       "      <td>3635,1195</td>\n",
       "      <td>3454,2956</td>\n",
       "      <td>3397,3952</td>\n",
       "      <td>3655,5174</td>\n",
       "      <td>1070,3381</td>\n",
       "      <td>5251,341</td>\n",
       "      <td>BALL_OUT</td>\n",
       "    </tr>\n",
       "    <tr>\n",
       "      <th>4</th>\n",
       "      <td>255</td>\n",
       "      <td>9854,336</td>\n",
       "      <td>6942,1429</td>\n",
       "      <td>7182,3129</td>\n",
       "      <td>7134,419</td>\n",
       "      <td>6785,5855</td>\n",
       "      <td>6158,335</td>\n",
       "      <td>6063,4192</td>\n",
       "      <td>5290,2482</td>\n",
       "      <td>5270,1865</td>\n",
       "      <td>...</td>\n",
       "      <td>4389,2985</td>\n",
       "      <td>5173,4488</td>\n",
       "      <td>4451,3941</td>\n",
       "      <td>3635,1195</td>\n",
       "      <td>3453,2956</td>\n",
       "      <td>3396,3952</td>\n",
       "      <td>3655,5174</td>\n",
       "      <td>1069,3381</td>\n",
       "      <td>5251,3413</td>\n",
       "      <td>BALL_OUT</td>\n",
       "    </tr>\n",
       "    <tr>\n",
       "      <th>...</th>\n",
       "      <td>...</td>\n",
       "      <td>...</td>\n",
       "      <td>...</td>\n",
       "      <td>...</td>\n",
       "      <td>...</td>\n",
       "      <td>...</td>\n",
       "      <td>...</td>\n",
       "      <td>...</td>\n",
       "      <td>...</td>\n",
       "      <td>...</td>\n",
       "      <td>...</td>\n",
       "      <td>...</td>\n",
       "      <td>...</td>\n",
       "      <td>...</td>\n",
       "      <td>...</td>\n",
       "      <td>...</td>\n",
       "      <td>...</td>\n",
       "      <td>...</td>\n",
       "      <td>...</td>\n",
       "      <td>...</td>\n",
       "      <td>...</td>\n",
       "    </tr>\n",
       "    <tr>\n",
       "      <th>71920</th>\n",
       "      <td>72171</td>\n",
       "      <td>7713,3737</td>\n",
       "      <td>4211,2715</td>\n",
       "      <td>5148,4097</td>\n",
       "      <td>4129,4983</td>\n",
       "      <td>4691,6038</td>\n",
       "      <td>2997,4951</td>\n",
       "      <td>2774,5783</td>\n",
       "      <td>1859,5122</td>\n",
       "      <td>1794,3268</td>\n",
       "      <td>...</td>\n",
       "      <td>1637,5315</td>\n",
       "      <td>3243,4511</td>\n",
       "      <td>1558,448</td>\n",
       "      <td>1693,3034</td>\n",
       "      <td>1374,3914</td>\n",
       "      <td>3084,5277</td>\n",
       "      <td>1642,6805</td>\n",
       "      <td>607,3962</td>\n",
       "      <td>3460,5067</td>\n",
       "      <td>AWAY</td>\n",
       "    </tr>\n",
       "    <tr>\n",
       "      <th>71921</th>\n",
       "      <td>72172</td>\n",
       "      <td>7711,3738</td>\n",
       "      <td>4211,2717</td>\n",
       "      <td>5146,4098</td>\n",
       "      <td>4126,4985</td>\n",
       "      <td>4690,6039</td>\n",
       "      <td>2994,4951</td>\n",
       "      <td>2774,5783</td>\n",
       "      <td>1859,5124</td>\n",
       "      <td>1792,327</td>\n",
       "      <td>...</td>\n",
       "      <td>1635,5317</td>\n",
       "      <td>3244,4511</td>\n",
       "      <td>1558,448</td>\n",
       "      <td>1693,3036</td>\n",
       "      <td>1371,3915</td>\n",
       "      <td>3087,5275</td>\n",
       "      <td>1640,6807</td>\n",
       "      <td>610,3963</td>\n",
       "      <td>3460,5067</td>\n",
       "      <td>AWAY</td>\n",
       "    </tr>\n",
       "    <tr>\n",
       "      <th>71922</th>\n",
       "      <td>72173</td>\n",
       "      <td>7710,374</td>\n",
       "      <td>4211,2719</td>\n",
       "      <td>5144,41</td>\n",
       "      <td>4124,4987</td>\n",
       "      <td>4689,604</td>\n",
       "      <td>2991,495</td>\n",
       "      <td>2774,5783</td>\n",
       "      <td>1859,5127</td>\n",
       "      <td>1791,3273</td>\n",
       "      <td>...</td>\n",
       "      <td>1633,5318</td>\n",
       "      <td>3245,4511</td>\n",
       "      <td>1558,448</td>\n",
       "      <td>1694,3037</td>\n",
       "      <td>1368,3916</td>\n",
       "      <td>3091,5274</td>\n",
       "      <td>1637,6808</td>\n",
       "      <td>612,3965</td>\n",
       "      <td>3460,5067</td>\n",
       "      <td>AWAY</td>\n",
       "    </tr>\n",
       "    <tr>\n",
       "      <th>71923</th>\n",
       "      <td>72174</td>\n",
       "      <td>7709,3741</td>\n",
       "      <td>4212,2721</td>\n",
       "      <td>5142,4101</td>\n",
       "      <td>4121,4989</td>\n",
       "      <td>4688,6041</td>\n",
       "      <td>2988,495</td>\n",
       "      <td>2774,5783</td>\n",
       "      <td>1859,5129</td>\n",
       "      <td>1791,3276</td>\n",
       "      <td>...</td>\n",
       "      <td>1630,5319</td>\n",
       "      <td>3246,4512</td>\n",
       "      <td>1558,4481</td>\n",
       "      <td>1695,304</td>\n",
       "      <td>1365,3917</td>\n",
       "      <td>3095,5273</td>\n",
       "      <td>1635,6809</td>\n",
       "      <td>614,3966</td>\n",
       "      <td>3460,5067</td>\n",
       "      <td>AWAY</td>\n",
       "    </tr>\n",
       "    <tr>\n",
       "      <th>71924</th>\n",
       "      <td>72175</td>\n",
       "      <td>7708,3742</td>\n",
       "      <td>4212,2722</td>\n",
       "      <td>5141,4103</td>\n",
       "      <td>4118,4991</td>\n",
       "      <td>4687,6042</td>\n",
       "      <td>2985,4949</td>\n",
       "      <td>2774,5783</td>\n",
       "      <td>1860,5133</td>\n",
       "      <td>1791,3281</td>\n",
       "      <td>...</td>\n",
       "      <td>1626,532</td>\n",
       "      <td>3247,4512</td>\n",
       "      <td>1558,4481</td>\n",
       "      <td>1698,3044</td>\n",
       "      <td>1363,3919</td>\n",
       "      <td>3098,5272</td>\n",
       "      <td>1633,681</td>\n",
       "      <td>616,3967</td>\n",
       "      <td>3460,5067</td>\n",
       "      <td>AWAY</td>\n",
       "    </tr>\n",
       "  </tbody>\n",
       "</table>\n",
       "<p>71925 rows × 25 columns</p>\n",
       "</div>"
      ],
      "text/plain": [
       "       Frame    Player1    Player2    Player3    Player4    Player5  \\\n",
       "0        251  9852,3365  6945,1418  7183,3132  7129,4197  6790,5851   \n",
       "1        252  9853,3364  6944,1421  7183,3132  7131,4195  6789,5852   \n",
       "2        253  9853,3363  6943,1424  7183,3131  7133,4193  6787,5853   \n",
       "3        254  9853,3362  6942,1426   7182,313  7133,4192  6786,5854   \n",
       "4        255   9854,336  6942,1429  7182,3129   7134,419  6785,5855   \n",
       "...      ...        ...        ...        ...        ...        ...   \n",
       "71920  72171  7713,3737  4211,2715  5148,4097  4129,4983  4691,6038   \n",
       "71921  72172  7711,3738  4211,2717  5146,4098  4126,4985  4690,6039   \n",
       "71922  72173   7710,374  4211,2719    5144,41  4124,4987   4689,604   \n",
       "71923  72174  7709,3741  4212,2721  5142,4101  4121,4989  4688,6041   \n",
       "71924  72175  7708,3742  4212,2722  5141,4103  4118,4991  4687,6042   \n",
       "\n",
       "         Player6    Player7    Player8    Player9  ...   Player15   Player16  \\\n",
       "0       6157,335    6063,42  5290,2483  5272,1855  ...  4387,2975  5173,4494   \n",
       "1       6157,335  6063,4198  5291,2482  5272,1858  ...  4388,2978  5173,4492   \n",
       "2       6158,335  6063,4195  5291,2482   5272,186  ...   4388,298   5173,449   \n",
       "3       6158,335  6063,4193  5291,2482  5271,1863  ...  4389,2983  5173,4489   \n",
       "4       6158,335  6063,4192  5290,2482  5270,1865  ...  4389,2985  5173,4488   \n",
       "...          ...        ...        ...        ...  ...        ...        ...   \n",
       "71920  2997,4951  2774,5783  1859,5122  1794,3268  ...  1637,5315  3243,4511   \n",
       "71921  2994,4951  2774,5783  1859,5124   1792,327  ...  1635,5317  3244,4511   \n",
       "71922   2991,495  2774,5783  1859,5127  1791,3273  ...  1633,5318  3245,4511   \n",
       "71923   2988,495  2774,5783  1859,5129  1791,3276  ...  1630,5319  3246,4512   \n",
       "71924  2985,4949  2774,5783  1860,5133  1791,3281  ...   1626,532  3247,4512   \n",
       "\n",
       "        Player17   Player18   Player19   Player20   Player21   Player22  \\\n",
       "0       4458,395  3635,1193  3457,2955  3401,3953  3655,5174  1072,3381   \n",
       "1      4456,3947  3635,1193  3457,2956  3400,3952  3655,5174  1071,3381   \n",
       "2      4454,3945  3635,1194  3456,2956  3399,3952  3655,5174  1070,3381   \n",
       "3      4453,3943  3635,1195  3454,2956  3397,3952  3655,5174  1070,3381   \n",
       "4      4451,3941  3635,1195  3453,2956  3396,3952  3655,5174  1069,3381   \n",
       "...          ...        ...        ...        ...        ...        ...   \n",
       "71920   1558,448  1693,3034  1374,3914  3084,5277  1642,6805   607,3962   \n",
       "71921   1558,448  1693,3036  1371,3915  3087,5275  1640,6807   610,3963   \n",
       "71922   1558,448  1694,3037  1368,3916  3091,5274  1637,6808   612,3965   \n",
       "71923  1558,4481   1695,304  1365,3917  3095,5273  1635,6809   614,3966   \n",
       "71924  1558,4481  1698,3044  1363,3919  3098,5272   1633,681   616,3967   \n",
       "\n",
       "            Ball    Status  \n",
       "0        5250,34  BALL_OUT  \n",
       "1      5250,3404  BALL_OUT  \n",
       "2      5251,3407  BALL_OUT  \n",
       "3       5251,341  BALL_OUT  \n",
       "4      5251,3413  BALL_OUT  \n",
       "...          ...       ...  \n",
       "71920  3460,5067      AWAY  \n",
       "71921  3460,5067      AWAY  \n",
       "71922  3460,5067      AWAY  \n",
       "71923  3460,5067      AWAY  \n",
       "71924  3460,5067      AWAY  \n",
       "\n",
       "[71925 rows x 25 columns]"
      ]
     },
     "execution_count": 2,
     "metadata": {},
     "output_type": "execute_result"
    }
   ],
   "source": [
    "first_half = pd.read_csv('./Raw_data_DEMO_GAME/OPTICAL_TRACKING/TXT/bepro_tracking_data_FIRST_HALF.csv', sep=';')\n",
    "first_half"
   ]
  },
  {
   "attachments": {},
   "cell_type": "markdown",
   "metadata": {},
   "source": [
    "Split cells to have X and Y coordonates in a different dict"
   ]
  },
  {
   "cell_type": "code",
   "execution_count": 3,
   "metadata": {},
   "outputs": [],
   "source": [
    "X = {}\n",
    "Y = {}\n",
    "\n",
    "for t in range(len(first_half)):\n",
    "    for i in first_half.columns[1:-1]:\n",
    "        X[t,i] = first_half[i][t].split(',')[0]\n",
    "        X[t,i] = int(X[t,i])\n",
    "    \n",
    "        Y[t,i] = first_half[i][t].split(',')[-1]\n",
    "        Y[t,i] = int(Y[t,i])\n",
    "    "
   ]
  },
  {
   "attachments": {},
   "cell_type": "markdown",
   "metadata": {},
   "source": [
    "Select team home and team visitor with the number of player -> will be changed and will use XML file to have the info"
   ]
  },
  {
   "cell_type": "code",
   "execution_count": 4,
   "metadata": {},
   "outputs": [],
   "source": [
    "team_H = first_half.columns[1:12]\n",
    "team_V = first_half.columns[13:-2]"
   ]
  },
  {
   "attachments": {},
   "cell_type": "markdown",
   "metadata": {},
   "source": [
    "Plot player localisation on a field background with different colors for player of the team home, visitor and the ball. Test for the firt frame"
   ]
  },
  {
   "cell_type": "code",
   "execution_count": 13,
   "metadata": {},
   "outputs": [
    {
     "data": {
      "image/png": "[encoded data removed]",
      "text/plain": [
       "<Figure size 756x489.6 with 1 Axes>"
      ]
     },
     "metadata": {},
     "output_type": "display_data"
    }
   ],
   "source": [
    "plt.rcParams[\"figure.figsize\"] = [10.5, 6.8]\n",
    "plt.rcParams[\"figure.autolayout\"] = True\n",
    "im = plt.imread(\"./image/field.png\")\n",
    "fig, ax = plt.subplots()\n",
    "im = ax.imshow(im, extent=[0, 10500, 0, 6800])\n",
    "for i in first_half.columns[1:-1]:    \n",
    "    if i in team_H:\n",
    "        plt.scatter(X[0,i],Y[0,i],c='b')\n",
    "    if i in team_V:\n",
    "        plt.scatter(X[0,i],Y[0,i],c='r')\n",
    "    if i == 'Ball':\n",
    "        plt.scatter(X[0,i],Y[0,i],c='w')\n",
    "    #plt.xlim(0,10500)\n",
    "    #plt.ylim(0,6800)\n",
    "    plt.xticks([])\n",
    "    plt.yticks([])\n",
    "plt.show()"
   ]
  },
  {
   "attachments": {},
   "cell_type": "markdown",
   "metadata": {},
   "source": [
    "Loop to have a loop on all the frame -> will be changed to use animation directly in python"
   ]
  },
  {
   "cell_type": "code",
   "execution_count": null,
   "metadata": {},
   "outputs": [
    {
     "name": "stderr",
     "output_type": "stream",
     "text": [
      "/home/cseceh/anaconda2/lib/python3.7/site-packages/ipykernel_launcher.py:2: RuntimeWarning: More than 20 figures have been opened. Figures created through the pyplot interface (`matplotlib.pyplot.figure`) are retained until explicitly closed and may consume too much memory. (To control this warning, see the rcParam `figure.max_open_warning`).\n",
      "  \n"
     ]
    }
   ],
   "source": [
    "for t in range(len(first_half)):\n",
    "    plt.figure(figsize=(10.5,6.8))\n",
    "    for i in first_half.columns[1:-1]:    \n",
    "        if i in team_H:\n",
    "            plt.scatter(X[t,i],Y[t,i],c='b')\n",
    "        if i in team_V:\n",
    "            plt.scatter(X[t,i],Y[t,i],c='r')\n",
    "        if i == 'Ball':\n",
    "            plt.scatter(X[t,i],Y[t,i],c='k')\n",
    "    plt.xlim(0,10500)\n",
    "    plt.ylim(0,6800)\n",
    "    plt.xticks([])\n",
    "    plt.yticks([])\n",
    "    #plt.savefig('./fig/%i.png'%t)"
   ]
  },
  {
   "attachments": {},
   "cell_type": "markdown",
   "metadata": {},
   "source": [
    "Read the XML file to have the number of player"
   ]
  },
  {
   "attachments": {},
   "cell_type": "markdown",
   "metadata": {},
   "source": [
    "Test avec ElementTree"
   ]
  },
  {
   "cell_type": "code",
   "execution_count": 5,
   "metadata": {},
   "outputs": [
    {
     "name": "stdout",
     "output_type": "stream",
     "text": [
      "<Element '{FIFADataTransferFormatEPTSNamespace/FIFADataTransferFormatEPTS}FIFADataTransferFormatEPTS' at 0x7f6b99401470>\n"
     ]
    }
   ],
   "source": [
    "# importing element tree\n",
    "# under the alias of ET\n",
    "import xml.etree.ElementTree as ET\n",
    "\n",
    "# Passing the path of the\n",
    "# xml document to enable the\n",
    "# parsing process\n",
    "tree = ET.parse('./Raw_data_DEMO_GAME/OPTICAL_TRACKING/XML/bepro_tracking_data_FIRST_HALF.xml')\n",
    "\n",
    "# getting the parent tag of\n",
    "# the xml document\n",
    "root = tree.getroot()\n",
    "\n",
    "# printing the root (parent) tag\n",
    "# of the xml document, along with\n",
    "# its memory location\n",
    "print(root)"
   ]
  },
  {
   "attachments": {},
   "cell_type": "markdown",
   "metadata": {},
   "source": [
    "2 class in the root -> choose the Metadata -> the first with [0]\n",
    "\n",
    "Look inside the root what are the categories"
   ]
  },
  {
   "cell_type": "code",
   "execution_count": 6,
   "metadata": {},
   "outputs": [
    {
     "name": "stdout",
     "output_type": "stream",
     "text": [
      "GlobalConfig\n",
      "Sessions\n",
      "Teams\n",
      "Players\n",
      "Devices\n",
      "PlayerChannels\n"
     ]
    }
   ],
   "source": [
    "for child in root[0]:\n",
    "    print(child.tag)"
   ]
  },
  {
   "attachments": {},
   "cell_type": "markdown",
   "metadata": {},
   "source": [
    "Read the teams' ID"
   ]
  },
  {
   "cell_type": "code",
   "execution_count": 7,
   "metadata": {},
   "outputs": [],
   "source": [
    "for i in range(len(root[0])):\n",
    "    if root[0][i].tag == 'Teams':\n",
    "        ID_home = root[0][i][0].attrib\n",
    "        ID_vis = root[0][i][1].attrib"
   ]
  },
  {
   "attachments": {},
   "cell_type": "markdown",
   "metadata": {},
   "source": [
    "Put players' shirt number in an array"
   ]
  },
  {
   "cell_type": "code",
   "execution_count": 8,
   "metadata": {},
   "outputs": [],
   "source": [
    "num_home = []\n",
    "num_vis = []\n",
    "\n",
    "for i in range(len(root[0])):\n",
    "    if root[0][i].tag == 'Players':\n",
    "        for j in range(len(root[0][i])):\n",
    "            if root[0][i][j].attrib['teamId'] == ID_home['id']:\n",
    "                for k in range(len(root[0][i][j])):\n",
    "                    if root[0][i][j][k].tag == 'ShirtNumber':\n",
    "                        num_home = np.append(num_home, root[0][i][j][k].text)\n",
    "            if root[0][i][j].attrib['teamId'] == ID_vis['id']:\n",
    "                for k in range(len(root[0][i][j])):\n",
    "                    if root[0][i][j][k].tag == 'ShirtNumber':\n",
    "                        num_vis = np.append(num_vis, root[0][i][j][k].text)"
   ]
  },
  {
   "cell_type": "code",
   "execution_count": 9,
   "metadata": {},
   "outputs": [
    {
     "data": {
      "text/plain": [
       "array(['1', '18', '28', '30', '25', '32', '6', '13', '23', '14', '10',\n",
       "       '11', '21', '24', '29', '36'], dtype='<U32')"
      ]
     },
     "execution_count": 9,
     "metadata": {},
     "output_type": "execute_result"
    }
   ],
   "source": [
    "num_home"
   ]
  },
  {
   "cell_type": "code",
   "execution_count": 10,
   "metadata": {},
   "outputs": [
    {
     "data": {
      "text/plain": [
       "array(['12', '7', '9', '10', '20', '17', '11', '4', '2', '19', '1', '8',\n",
       "       '3', '14', '15', '6'], dtype='<U32')"
      ]
     },
     "execution_count": 10,
     "metadata": {},
     "output_type": "execute_result"
    }
   ],
   "source": [
    "num_vis"
   ]
  },
  {
   "attachments": {},
   "cell_type": "markdown",
   "metadata": {},
   "source": [
    "Plot field with shirt numbers"
   ]
  },
  {
   "cell_type": "code",
   "execution_count": 43,
   "metadata": {},
   "outputs": [
    {
     "data": {
      "image/png": "[encoded data removed]",
      "text/plain": [
       "<Figure size 756x489.6 with 1 Axes>"
      ]
     },
     "metadata": {
      "needs_background": "light"
     },
     "output_type": "display_data"
    }
   ],
   "source": [
    "import matplotlib\n",
    "from matplotlib import pyplot as plt, patches\n",
    "\n",
    "plt.rcParams[\"figure.figsize\"] = [10.5, 6.8]\n",
    "plt.rcParams[\"figure.autolayout\"] = True\n",
    "im = plt.imread(\"./image/field.png\")\n",
    "fig, ax = plt.subplots()\n",
    "im = ax.imshow(im, extent=[0, 10500, 0, 6800])\n",
    "for i in range(len(team_H)):\n",
    "    plt.scatter(X[20,team_H[i]],Y[20,team_H[i]],c='#9d5c63',s=600)    \n",
    "    plt.text(X[20,team_H[i]],Y[20,team_H[i]],\"%s\" %num_home[i],fontsize=12,ha=\"center\",va='center',c='w')\n",
    "for i in range(len(team_V)): \n",
    "    plt.scatter(X[20,team_V[i]],Y[20,team_V[i]],c='#384e77',s=600)    \n",
    "    plt.text(X[20,team_V[i]],Y[20,team_V[i]],\"%s\" %num_vis[i],fontsize=12,ha=\"center\",va='center',c='w')\n",
    "plt.scatter(X[20,'Ball'],Y[20,'Ball'],c='w',edgecolors='k',s=200)\n",
    "#plt.xlim(0,10500)\n",
    "#plt.ylim(0,6800)\n",
    "ax.axis('off')\n",
    "plt.show()"
   ]
  },
  {
   "cell_type": "code",
   "execution_count": null,
   "metadata": {},
   "outputs": [],
   "source": []
  }
 ],
 "metadata": {
  "kernelspec": {
   "display_name": "Python 3 (ipykernel)",
   "language": "python",
   "name": "python3"
  },
  "language_info": {
   "codemirror_mode": {
    "name": "ipython",
    "version": 3
   },
   "file_extension": ".py",
   "mimetype": "text/x-python",
   "name": "python",
   "nbconvert_exporter": "python",
   "pygments_lexer": "ipython3",
   "version": "3.7.11"
  },
  "vscode": {
   "interpreter": {
    "hash": "d071c9e46e89fc979af62861e723ad6e66fa55c5254b7beaeadd61d7676492a1"
   }
  }
 },
 "nbformat": 4,
 "nbformat_minor": 4
}
